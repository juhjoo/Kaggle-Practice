{
 "cells": [
  {
   "cell_type": "code",
   "execution_count": 1,
   "id": "38bc2beb",
   "metadata": {
    "_cell_guid": "b1076dfc-b9ad-4769-8c92-a6c4dae69d19",
    "_uuid": "8f2839f25d086af736a60e9eeb907d3b93b6e0e5",
    "execution": {
     "iopub.execute_input": "2022-05-16T19:01:39.663368Z",
     "iopub.status.busy": "2022-05-16T19:01:39.662688Z",
     "iopub.status.idle": "2022-05-16T19:01:39.675661Z",
     "shell.execute_reply": "2022-05-16T19:01:39.674845Z"
    },
    "papermill": {
     "duration": 0.043936,
     "end_time": "2022-05-16T19:01:39.677506",
     "exception": false,
     "start_time": "2022-05-16T19:01:39.633570",
     "status": "completed"
    },
    "tags": []
   },
   "outputs": [
    {
     "name": "stdout",
     "output_type": "stream",
     "text": [
      "/kaggle/input/aerial-cactus-identification/sample_submission.csv\n",
      "/kaggle/input/aerial-cactus-identification/train.zip\n",
      "/kaggle/input/aerial-cactus-identification/test.zip\n",
      "/kaggle/input/aerial-cactus-identification/train.csv\n"
     ]
    }
   ],
   "source": [
    "# This Python 3 environment comes with many helpful analytics libraries installed\n",
    "# It is defined by the kaggle/python Docker image: https://github.com/kaggle/docker-python\n",
    "# For example, here's several helpful packages to load\n",
    "\n",
    "import numpy as np # linear algebra\n",
    "import pandas as pd # data processing, CSV file I/O (e.g. pd.read_csv)\n",
    "\n",
    "# Input data files are available in the read-only \"../input/\" directory\n",
    "# For example, running this (by clicking run or pressing Shift+Enter) will list all files under the input directory\n",
    "\n",
    "import os\n",
    "for dirname, _, filenames in os.walk('/kaggle/input'):\n",
    "    for filename in filenames:\n",
    "        print(os.path.join(dirname, filename))\n",
    "\n",
    "# You can write up to 20GB to the current directory (/kaggle/working/) that gets preserved as output when you create a version using \"Save & Run All\" \n",
    "# You can also write temporary files to /kaggle/temp/, but they won't be saved outside of the current session"
   ]
  },
  {
   "cell_type": "code",
   "execution_count": 2,
   "id": "83cb5c22",
   "metadata": {
    "execution": {
     "iopub.execute_input": "2022-05-16T19:01:39.733655Z",
     "iopub.status.busy": "2022-05-16T19:01:39.732834Z",
     "iopub.status.idle": "2022-05-16T19:01:39.771309Z",
     "shell.execute_reply": "2022-05-16T19:01:39.770512Z"
    },
    "papermill": {
     "duration": 0.069255,
     "end_time": "2022-05-16T19:01:39.773669",
     "exception": false,
     "start_time": "2022-05-16T19:01:39.704414",
     "status": "completed"
    },
    "tags": []
   },
   "outputs": [],
   "source": [
    "data_path = '/kaggle/input/aerial-cactus-identification/'\n",
    "labels = pd.read_csv(data_path+'train.csv')\n",
    "submission = pd.read_csv(data_path+'sample_submission.csv')"
   ]
  },
  {
   "cell_type": "code",
   "execution_count": 3,
   "id": "feb0ec4b",
   "metadata": {
    "execution": {
     "iopub.execute_input": "2022-05-16T19:01:39.830008Z",
     "iopub.status.busy": "2022-05-16T19:01:39.829209Z",
     "iopub.status.idle": "2022-05-16T19:01:39.846669Z",
     "shell.execute_reply": "2022-05-16T19:01:39.845996Z"
    },
    "papermill": {
     "duration": 0.047657,
     "end_time": "2022-05-16T19:01:39.849098",
     "exception": false,
     "start_time": "2022-05-16T19:01:39.801441",
     "status": "completed"
    },
    "tags": []
   },
   "outputs": [
    {
     "data": {
      "text/html": [
       "<div>\n",
       "<style scoped>\n",
       "    .dataframe tbody tr th:only-of-type {\n",
       "        vertical-align: middle;\n",
       "    }\n",
       "\n",
       "    .dataframe tbody tr th {\n",
       "        vertical-align: top;\n",
       "    }\n",
       "\n",
       "    .dataframe thead th {\n",
       "        text-align: right;\n",
       "    }\n",
       "</style>\n",
       "<table border=\"1\" class=\"dataframe\">\n",
       "  <thead>\n",
       "    <tr style=\"text-align: right;\">\n",
       "      <th></th>\n",
       "      <th>id</th>\n",
       "      <th>has_cactus</th>\n",
       "    </tr>\n",
       "  </thead>\n",
       "  <tbody>\n",
       "    <tr>\n",
       "      <th>0</th>\n",
       "      <td>0004be2cfeaba1c0361d39e2b000257b.jpg</td>\n",
       "      <td>1</td>\n",
       "    </tr>\n",
       "    <tr>\n",
       "      <th>1</th>\n",
       "      <td>000c8a36845c0208e833c79c1bffedd1.jpg</td>\n",
       "      <td>1</td>\n",
       "    </tr>\n",
       "    <tr>\n",
       "      <th>2</th>\n",
       "      <td>000d1e9a533f62e55c289303b072733d.jpg</td>\n",
       "      <td>1</td>\n",
       "    </tr>\n",
       "    <tr>\n",
       "      <th>3</th>\n",
       "      <td>0011485b40695e9138e92d0b3fb55128.jpg</td>\n",
       "      <td>1</td>\n",
       "    </tr>\n",
       "    <tr>\n",
       "      <th>4</th>\n",
       "      <td>0014d7a11e90b62848904c1418fc8cf2.jpg</td>\n",
       "      <td>1</td>\n",
       "    </tr>\n",
       "  </tbody>\n",
       "</table>\n",
       "</div>"
      ],
      "text/plain": [
       "                                     id  has_cactus\n",
       "0  0004be2cfeaba1c0361d39e2b000257b.jpg           1\n",
       "1  000c8a36845c0208e833c79c1bffedd1.jpg           1\n",
       "2  000d1e9a533f62e55c289303b072733d.jpg           1\n",
       "3  0011485b40695e9138e92d0b3fb55128.jpg           1\n",
       "4  0014d7a11e90b62848904c1418fc8cf2.jpg           1"
      ]
     },
     "execution_count": 3,
     "metadata": {},
     "output_type": "execute_result"
    }
   ],
   "source": [
    "labels.head()"
   ]
  },
  {
   "cell_type": "code",
   "execution_count": 4,
   "id": "245d67f9",
   "metadata": {
    "execution": {
     "iopub.execute_input": "2022-05-16T19:01:39.905049Z",
     "iopub.status.busy": "2022-05-16T19:01:39.904561Z",
     "iopub.status.idle": "2022-05-16T19:01:39.916065Z",
     "shell.execute_reply": "2022-05-16T19:01:39.915360Z"
    },
    "papermill": {
     "duration": 0.041881,
     "end_time": "2022-05-16T19:01:39.918178",
     "exception": false,
     "start_time": "2022-05-16T19:01:39.876297",
     "status": "completed"
    },
    "tags": []
   },
   "outputs": [
    {
     "data": {
      "text/html": [
       "<div>\n",
       "<style scoped>\n",
       "    .dataframe tbody tr th:only-of-type {\n",
       "        vertical-align: middle;\n",
       "    }\n",
       "\n",
       "    .dataframe tbody tr th {\n",
       "        vertical-align: top;\n",
       "    }\n",
       "\n",
       "    .dataframe thead th {\n",
       "        text-align: right;\n",
       "    }\n",
       "</style>\n",
       "<table border=\"1\" class=\"dataframe\">\n",
       "  <thead>\n",
       "    <tr style=\"text-align: right;\">\n",
       "      <th></th>\n",
       "      <th>id</th>\n",
       "      <th>has_cactus</th>\n",
       "    </tr>\n",
       "  </thead>\n",
       "  <tbody>\n",
       "    <tr>\n",
       "      <th>0</th>\n",
       "      <td>000940378805c44108d287872b2f04ce.jpg</td>\n",
       "      <td>0.5</td>\n",
       "    </tr>\n",
       "    <tr>\n",
       "      <th>1</th>\n",
       "      <td>0017242f54ececa4512b4d7937d1e21e.jpg</td>\n",
       "      <td>0.5</td>\n",
       "    </tr>\n",
       "    <tr>\n",
       "      <th>2</th>\n",
       "      <td>001ee6d8564003107853118ab87df407.jpg</td>\n",
       "      <td>0.5</td>\n",
       "    </tr>\n",
       "    <tr>\n",
       "      <th>3</th>\n",
       "      <td>002e175c3c1e060769475f52182583d0.jpg</td>\n",
       "      <td>0.5</td>\n",
       "    </tr>\n",
       "    <tr>\n",
       "      <th>4</th>\n",
       "      <td>0036e44a7e8f7218e9bc7bf8137e4943.jpg</td>\n",
       "      <td>0.5</td>\n",
       "    </tr>\n",
       "  </tbody>\n",
       "</table>\n",
       "</div>"
      ],
      "text/plain": [
       "                                     id  has_cactus\n",
       "0  000940378805c44108d287872b2f04ce.jpg         0.5\n",
       "1  0017242f54ececa4512b4d7937d1e21e.jpg         0.5\n",
       "2  001ee6d8564003107853118ab87df407.jpg         0.5\n",
       "3  002e175c3c1e060769475f52182583d0.jpg         0.5\n",
       "4  0036e44a7e8f7218e9bc7bf8137e4943.jpg         0.5"
      ]
     },
     "execution_count": 4,
     "metadata": {},
     "output_type": "execute_result"
    }
   ],
   "source": [
    "submission.head()"
   ]
  },
  {
   "cell_type": "code",
   "execution_count": 5,
   "id": "68fdf738",
   "metadata": {
    "execution": {
     "iopub.execute_input": "2022-05-16T19:01:39.978793Z",
     "iopub.status.busy": "2022-05-16T19:01:39.978045Z",
     "iopub.status.idle": "2022-05-16T19:01:40.123016Z",
     "shell.execute_reply": "2022-05-16T19:01:40.122284Z"
    },
    "papermill": {
     "duration": 0.178529,
     "end_time": "2022-05-16T19:01:40.125378",
     "exception": false,
     "start_time": "2022-05-16T19:01:39.946849",
     "status": "completed"
    },
    "tags": []
   },
   "outputs": [
    {
     "data": {
      "text/plain": [
       "([<matplotlib.patches.Wedge at 0x7f2a588dfc10>,\n",
       "  <matplotlib.patches.Wedge at 0x7f2a58878490>],\n",
       " [Text(-0.7793519565739234, 0.7762799287527649, 'Has cactus'),\n",
       "  Text(0.7793519929142085, -0.776279892268666, \"Hasn't cactus\")],\n",
       " [Text(-0.42510106722213997, 0.42342541568332626, '75.1%'),\n",
       "  Text(0.4251010870441137, -0.42342539578290866, '24.9%')])"
      ]
     },
     "execution_count": 5,
     "metadata": {},
     "output_type": "execute_result"
    },
    {
     "data": {
      "image/png": "[encoded data removed]",
      "text/plain": [
       "<Figure size 504x504 with 1 Axes>"
      ]
     },
     "metadata": {},
     "output_type": "display_data"
    }
   ],
   "source": [
    "import matplotlib as mpl\n",
    "import matplotlib.pyplot as plt\n",
    "%matplotlib inline\n",
    "\n",
    "mpl.rc('font', size=15)\n",
    "plt.figure(figsize=(7, 7))\n",
    "\n",
    "label = ['Has cactus', 'Hasn\\'t cactus']\n",
    "plt.pie(labels['has_cactus'].value_counts(), labels=label, autopct='%.1f%%')"
   ]
  },
  {
   "cell_type": "code",
   "execution_count": 6,
   "id": "f7812944",
   "metadata": {
    "execution": {
     "iopub.execute_input": "2022-05-16T19:01:40.224793Z",
     "iopub.status.busy": "2022-05-16T19:01:40.224526Z",
     "iopub.status.idle": "2022-05-16T19:01:43.251196Z",
     "shell.execute_reply": "2022-05-16T19:01:43.250414Z"
    },
    "papermill": {
     "duration": 3.072479,
     "end_time": "2022-05-16T19:01:43.253283",
     "exception": false,
     "start_time": "2022-05-16T19:01:40.180804",
     "status": "completed"
    },
    "tags": []
   },
   "outputs": [],
   "source": [
    "from zipfile import ZipFile\n",
    "\n",
    "with ZipFile(data_path+'train.zip') as zipper :\n",
    "    zipper.extractall()\n",
    "\n",
    "with ZipFile(data_path+'test.zip') as zipper :\n",
    "    zipper.extractall()"
   ]
  },
  {
   "cell_type": "code",
   "execution_count": 7,
   "id": "335cb2de",
   "metadata": {
    "execution": {
     "iopub.execute_input": "2022-05-16T19:01:43.312706Z",
     "iopub.status.busy": "2022-05-16T19:01:43.312454Z",
     "iopub.status.idle": "2022-05-16T19:01:44.542707Z",
     "shell.execute_reply": "2022-05-16T19:01:44.542002Z"
    },
    "papermill": {
     "duration": 1.263013,
     "end_time": "2022-05-16T19:01:44.545440",
     "exception": false,
     "start_time": "2022-05-16T19:01:43.282427",
     "status": "completed"
    },
    "tags": []
   },
   "outputs": [
    {
     "data": {
      "image/png": "[encoded data removed]",
      "text/plain": [
       "<Figure size 1080x432 with 12 Axes>"
      ]
     },
     "metadata": {
      "needs_background": "light"
     },
     "output_type": "display_data"
    }
   ],
   "source": [
    "import matplotlib.gridspec as gridspec\n",
    "import cv2\n",
    "\n",
    "mpl.rc('font', size=7)\n",
    "plt.figure(figsize=(15, 6))\n",
    "grid = gridspec.GridSpec(2, 6)\n",
    "\n",
    "last_has_cactus_img_name = labels[labels['has_cactus']==1]['id'][-12:]\n",
    "\n",
    "for idx, img_name in enumerate(last_has_cactus_img_name) :\n",
    "    img_path = 'train/' + img_name\n",
    "    image = cv2.imread(img_path)\n",
    "    image = cv2.cvtColor(image, cv2.COLOR_BGR2RGB)\n",
    "    ax = plt.subplot(grid[idx])\n",
    "    ax.imshow(image)"
   ]
  },
  {
   "cell_type": "code",
   "execution_count": 8,
   "id": "44995b04",
   "metadata": {
    "execution": {
     "iopub.execute_input": "2022-05-16T19:01:44.609434Z",
     "iopub.status.busy": "2022-05-16T19:01:44.608727Z",
     "iopub.status.idle": "2022-05-16T19:01:45.747477Z",
     "shell.execute_reply": "2022-05-16T19:01:45.746826Z"
    },
    "papermill": {
     "duration": 1.172807,
     "end_time": "2022-05-16T19:01:45.749736",
     "exception": false,
     "start_time": "2022-05-16T19:01:44.576929",
     "status": "completed"
    },
    "tags": []
   },
   "outputs": [
    {
     "data": {
      "image/png": "[encoded data removed]",
      "text/plain": [
       "<Figure size 1080x432 with 12 Axes>"
      ]
     },
     "metadata": {
      "needs_background": "light"
     },
     "output_type": "display_data"
    }
   ],
   "source": [
    "import matplotlib.gridspec as gridspec\n",
    "import cv2\n",
    "\n",
    "mpl.rc('font', size=7)\n",
    "plt.figure(figsize=(15, 6))\n",
    "grid = gridspec.GridSpec(2, 6)\n",
    "\n",
    "last_has_cactus_img_name = labels[labels['has_cactus']==0]['id'][-12:]\n",
    "\n",
    "for idx, img_name in enumerate(last_has_cactus_img_name) :\n",
    "    img_path = 'train/' + img_name\n",
    "    image = cv2.imread(img_path)\n",
    "    image = cv2.cvtColor(image, cv2.COLOR_BGR2RGB)\n",
    "    ax = plt.subplot(grid[idx])\n",
    "    ax.imshow(image)"
   ]
  },
  {
   "cell_type": "code",
   "execution_count": 9,
   "id": "3c0ffe5b",
   "metadata": {
    "execution": {
     "iopub.execute_input": "2022-05-16T19:01:45.815299Z",
     "iopub.status.busy": "2022-05-16T19:01:45.814870Z",
     "iopub.status.idle": "2022-05-16T19:01:47.561916Z",
     "shell.execute_reply": "2022-05-16T19:01:47.561134Z"
    },
    "papermill": {
     "duration": 1.782079,
     "end_time": "2022-05-16T19:01:47.563985",
     "exception": false,
     "start_time": "2022-05-16T19:01:45.781906",
     "status": "completed"
    },
    "tags": []
   },
   "outputs": [],
   "source": [
    "import torch\n",
    "import random\n",
    "import numpy as np\n",
    "import os\n",
    "\n",
    "seed = 50\n",
    "os.environ['PYTHONHASHSEED'] = str(seed)\n",
    "random.seed(seed)\n",
    "np.random.seed(seed)\n",
    "torch.manual_seed(seed)\n",
    "torch.cuda.manual_seed(seed)\n",
    "torch.cuda.manual_seed_all(seed)\n",
    "torch.backends.cudnn.deterministic = True\n",
    "torch.backends.cudnn.benchmark = False\n",
    "torch.backends.cudnn.enabled = False"
   ]
  },
  {
   "cell_type": "code",
   "execution_count": 10,
   "id": "6cbf8d04",
   "metadata": {
    "execution": {
     "iopub.execute_input": "2022-05-16T19:01:47.638102Z",
     "iopub.status.busy": "2022-05-16T19:01:47.637850Z",
     "iopub.status.idle": "2022-05-16T19:01:47.699120Z",
     "shell.execute_reply": "2022-05-16T19:01:47.698277Z"
    },
    "papermill": {
     "duration": 0.105063,
     "end_time": "2022-05-16T19:01:47.701213",
     "exception": false,
     "start_time": "2022-05-16T19:01:47.596150",
     "status": "completed"
    },
    "tags": []
   },
   "outputs": [],
   "source": [
    "if torch.cuda.is_available() :\n",
    "    device = torch.device('cuda')\n",
    "else :\n",
    "    device = torch.device('cpu')"
   ]
  },
  {
   "cell_type": "code",
   "execution_count": 11,
   "id": "abe09672",
   "metadata": {
    "execution": {
     "iopub.execute_input": "2022-05-16T19:01:47.776120Z",
     "iopub.status.busy": "2022-05-16T19:01:47.775860Z",
     "iopub.status.idle": "2022-05-16T19:01:48.623271Z",
     "shell.execute_reply": "2022-05-16T19:01:48.622443Z"
    },
    "papermill": {
     "duration": 0.887098,
     "end_time": "2022-05-16T19:01:48.626095",
     "exception": false,
     "start_time": "2022-05-16T19:01:47.738997",
     "status": "completed"
    },
    "tags": []
   },
   "outputs": [],
   "source": [
    "from sklearn.model_selection import train_test_split\n",
    "\n",
    "train, valid = train_test_split(labels, test_size=0.1, stratify=labels['has_cactus'], random_state=50)"
   ]
  },
  {
   "cell_type": "code",
   "execution_count": 12,
   "id": "f1c2ce4e",
   "metadata": {
    "execution": {
     "iopub.execute_input": "2022-05-16T19:01:48.724584Z",
     "iopub.status.busy": "2022-05-16T19:01:48.724225Z",
     "iopub.status.idle": "2022-05-16T19:01:48.730098Z",
     "shell.execute_reply": "2022-05-16T19:01:48.729313Z"
    },
    "papermill": {
     "duration": 0.071386,
     "end_time": "2022-05-16T19:01:48.736360",
     "exception": false,
     "start_time": "2022-05-16T19:01:48.664974",
     "status": "completed"
    },
    "tags": []
   },
   "outputs": [
    {
     "name": "stdout",
     "output_type": "stream",
     "text": [
      "훈련 데이터 개수 15750\n",
      "검증 데이터 개수 1750\n"
     ]
    }
   ],
   "source": [
    "print('훈련 데이터 개수', len(train))\n",
    "print('검증 데이터 개수', len(valid))"
   ]
  },
  {
   "cell_type": "code",
   "execution_count": 13,
   "id": "858bbed3",
   "metadata": {
    "execution": {
     "iopub.execute_input": "2022-05-16T19:01:48.855426Z",
     "iopub.status.busy": "2022-05-16T19:01:48.855089Z",
     "iopub.status.idle": "2022-05-16T19:01:48.869212Z",
     "shell.execute_reply": "2022-05-16T19:01:48.867776Z"
    },
    "papermill": {
     "duration": 0.076841,
     "end_time": "2022-05-16T19:01:48.872086",
     "exception": false,
     "start_time": "2022-05-16T19:01:48.795245",
     "status": "completed"
    },
    "tags": []
   },
   "outputs": [],
   "source": [
    "from torch.utils.data import Dataset\n",
    "\n",
    "class ImageDataset(Dataset) :\n",
    "    def __init__(self, df, img_dir='./', transform=None) :\n",
    "        super().__init__()\n",
    "        self.df = df\n",
    "        self.img_dir = img_dir\n",
    "        self.transform = transform\n",
    "        \n",
    "    def __len__(self) :\n",
    "        return len(self.df)\n",
    "    \n",
    "    def __getitem__(self, idx) :\n",
    "        img_id = self.df.iloc[idx, 0]\n",
    "        img_path = self.img_dir + img_id\n",
    "        image = cv2.imread(img_path)\n",
    "        image = cv2.cvtColor(image, cv2.COLOR_BGR2RGB)\n",
    "        label =self.df.iloc[idx, 1]\n",
    "        \n",
    "        if self.transform is not None :\n",
    "            image = self.transform(image)\n",
    "        return image, label"
   ]
  },
  {
   "cell_type": "code",
   "execution_count": 14,
   "id": "7a8477cc",
   "metadata": {
    "execution": {
     "iopub.execute_input": "2022-05-16T19:01:49.019723Z",
     "iopub.status.busy": "2022-05-16T19:01:49.019214Z",
     "iopub.status.idle": "2022-05-16T19:01:49.237475Z",
     "shell.execute_reply": "2022-05-16T19:01:49.236773Z"
    },
    "papermill": {
     "duration": 0.278325,
     "end_time": "2022-05-16T19:01:49.239887",
     "exception": false,
     "start_time": "2022-05-16T19:01:48.961562",
     "status": "completed"
    },
    "tags": []
   },
   "outputs": [],
   "source": [
    "from torchvision import transforms\n",
    "\n",
    "transform = transforms.ToTensor()\n",
    "\n",
    "transform_train = transforms.Compose([transforms.ToTensor(),\n",
    "                                     transforms.Pad(32,padding_mode='symmetric'),\n",
    "                                     transforms.RandomHorizontalFlip(),\n",
    "                                     transforms.RandomVerticalFlip(),\n",
    "                                     transforms.RandomRotation(10),\n",
    "                                     transforms.Normalize((0.485, 0.456, 0.406),\n",
    "                                                         (0.229, 0.224, 0.225))])\n",
    "transform_test = transforms.Compose([transforms.ToTensor(),\n",
    "                                     transforms.Pad(32,padding_mode='symmetric'),\n",
    "                                     transforms.Normalize((0.485, 0.456, 0.406),\n",
    "                                                         (0.229, 0.224, 0.225))])"
   ]
  },
  {
   "cell_type": "code",
   "execution_count": 15,
   "id": "20df75a6",
   "metadata": {
    "execution": {
     "iopub.execute_input": "2022-05-16T19:01:49.306701Z",
     "iopub.status.busy": "2022-05-16T19:01:49.306031Z",
     "iopub.status.idle": "2022-05-16T19:01:49.310249Z",
     "shell.execute_reply": "2022-05-16T19:01:49.309566Z"
    },
    "papermill": {
     "duration": 0.039852,
     "end_time": "2022-05-16T19:01:49.311917",
     "exception": false,
     "start_time": "2022-05-16T19:01:49.272065",
     "status": "completed"
    },
    "tags": []
   },
   "outputs": [],
   "source": [
    "dataset_train = ImageDataset(df=train, img_dir='train/', transform=transform_train)\n",
    "dataset_valid = ImageDataset(df=valid, img_dir='train/', transform=transform_test)\n",
    "                             "
   ]
  },
  {
   "cell_type": "code",
   "execution_count": 16,
   "id": "91cc6c42",
   "metadata": {
    "execution": {
     "iopub.execute_input": "2022-05-16T19:01:49.377867Z",
     "iopub.status.busy": "2022-05-16T19:01:49.377247Z",
     "iopub.status.idle": "2022-05-16T19:01:49.381802Z",
     "shell.execute_reply": "2022-05-16T19:01:49.381116Z"
    },
    "papermill": {
     "duration": 0.039302,
     "end_time": "2022-05-16T19:01:49.383367",
     "exception": false,
     "start_time": "2022-05-16T19:01:49.344065",
     "status": "completed"
    },
    "tags": []
   },
   "outputs": [],
   "source": [
    "from torch.utils.data import DataLoader\n",
    "\n",
    "loader_train = DataLoader(dataset=dataset_train, batch_size=32, shuffle=True)\n",
    "loader_valid = DataLoader(dataset=dataset_valid, batch_size=32, shuffle=False)"
   ]
  },
  {
   "cell_type": "code",
   "execution_count": 17,
   "id": "6cc600fd",
   "metadata": {
    "execution": {
     "iopub.execute_input": "2022-05-16T19:01:49.449407Z",
     "iopub.status.busy": "2022-05-16T19:01:49.448726Z",
     "iopub.status.idle": "2022-05-16T19:01:49.452413Z",
     "shell.execute_reply": "2022-05-16T19:01:49.451752Z"
    },
    "papermill": {
     "duration": 0.038289,
     "end_time": "2022-05-16T19:01:49.454002",
     "exception": false,
     "start_time": "2022-05-16T19:01:49.415713",
     "status": "completed"
    },
    "tags": []
   },
   "outputs": [],
   "source": [
    "import torch.nn as nn\n",
    "import torch.nn.functional as F"
   ]
  },
  {
   "cell_type": "code",
   "execution_count": 18,
   "id": "634eaf4e",
   "metadata": {
    "execution": {
     "iopub.execute_input": "2022-05-16T19:01:49.519690Z",
     "iopub.status.busy": "2022-05-16T19:01:49.519013Z",
     "iopub.status.idle": "2022-05-16T19:01:49.531249Z",
     "shell.execute_reply": "2022-05-16T19:01:49.530621Z"
    },
    "papermill": {
     "duration": 0.046979,
     "end_time": "2022-05-16T19:01:49.532916",
     "exception": false,
     "start_time": "2022-05-16T19:01:49.485937",
     "status": "completed"
    },
    "tags": []
   },
   "outputs": [],
   "source": [
    "class Model(nn.Module) :\n",
    "    def __init__(self) :\n",
    "        super().__init__()\n",
    "        self.layer1 = nn.Sequential(nn.Conv2d(in_channels=3, out_channels=32, kernel_size=3, padding=2), nn.BatchNorm2d(32), nn.LeakyReLU(), nn.MaxPool2d(kernel_size=2))\n",
    "        self.layer2 = nn.Sequential(nn.Conv2d(in_channels=32, out_channels=64, kernel_size=3, padding=2), nn.BatchNorm2d(64), nn.LeakyReLU(), nn.MaxPool2d(kernel_size=2))\n",
    "        self.layer3 = nn.Sequential(nn.Conv2d(in_channels=64, out_channels=128, kernel_size=3, padding=2), nn.BatchNorm2d(128), nn.LeakyReLU(), nn.MaxPool2d(kernel_size=2))\n",
    "        self.layer4 = nn.Sequential(nn.Conv2d(in_channels=128, out_channels=256, kernel_size=3, padding=2), nn.BatchNorm2d(256), nn.LeakyReLU(), nn.MaxPool2d(kernel_size=2))\n",
    "        self.layer5 = nn.Sequential(nn.Conv2d(in_channels=256, out_channels=512, kernel_size=3, padding=2), nn.BatchNorm2d(512), nn.LeakyReLU(), nn.MaxPool2d(kernel_size=2))\n",
    "        self.avg_pool = nn.AvgPool2d(kernel_size=4)\n",
    "        self.fc1 = nn.Linear(in_features=512 * 1 * 1, out_features=64)\n",
    "        self.fc2 = nn.Linear(in_features=64, out_features=2)\n",
    "        \n",
    "        self.fc = nn.Linear(in_features=64 * 4 * 4, out_features=2)\n",
    "        \n",
    "    def forward(self, x) :\n",
    "        x = self.layer1(x)\n",
    "        x = self.layer2(x)\n",
    "        x = self.layer3(x)\n",
    "        x = self.layer4(x)\n",
    "        x = self.layer5(x)\n",
    "        x = self.avg_pool(x)\n",
    "        x = x.view(-1, 512 * 1 * 1)\n",
    "        x = self.fc1(x)\n",
    "        x = self.fc2(x)\n",
    "        return x"
   ]
  },
  {
   "cell_type": "code",
   "execution_count": 19,
   "id": "2baae174",
   "metadata": {
    "execution": {
     "iopub.execute_input": "2022-05-16T19:01:49.599092Z",
     "iopub.status.busy": "2022-05-16T19:01:49.598856Z",
     "iopub.status.idle": "2022-05-16T19:01:52.614478Z",
     "shell.execute_reply": "2022-05-16T19:01:52.613755Z"
    },
    "papermill": {
     "duration": 3.051434,
     "end_time": "2022-05-16T19:01:52.616611",
     "exception": false,
     "start_time": "2022-05-16T19:01:49.565177",
     "status": "completed"
    },
    "tags": []
   },
   "outputs": [],
   "source": [
    "model = Model().to(device)"
   ]
  },
  {
   "cell_type": "code",
   "execution_count": 20,
   "id": "c2a7d992",
   "metadata": {
    "execution": {
     "iopub.execute_input": "2022-05-16T19:01:52.726891Z",
     "iopub.status.busy": "2022-05-16T19:01:52.726540Z",
     "iopub.status.idle": "2022-05-16T19:01:52.732524Z",
     "shell.execute_reply": "2022-05-16T19:01:52.731683Z"
    },
    "papermill": {
     "duration": 0.088043,
     "end_time": "2022-05-16T19:01:52.738031",
     "exception": false,
     "start_time": "2022-05-16T19:01:52.649988",
     "status": "completed"
    },
    "tags": []
   },
   "outputs": [],
   "source": [
    "criterion = nn.CrossEntropyLoss()"
   ]
  },
  {
   "cell_type": "code",
   "execution_count": 21,
   "id": "82a313c7",
   "metadata": {
    "execution": {
     "iopub.execute_input": "2022-05-16T19:01:52.998737Z",
     "iopub.status.busy": "2022-05-16T19:01:52.998455Z",
     "iopub.status.idle": "2022-05-16T19:01:53.005528Z",
     "shell.execute_reply": "2022-05-16T19:01:53.004827Z"
    },
    "papermill": {
     "duration": 0.074854,
     "end_time": "2022-05-16T19:01:53.014681",
     "exception": false,
     "start_time": "2022-05-16T19:01:52.939827",
     "status": "completed"
    },
    "tags": []
   },
   "outputs": [],
   "source": [
    "optimizer = torch.optim.Adamax(model.parameters(), lr=0.00006)"
   ]
  },
  {
   "cell_type": "code",
   "execution_count": 22,
   "id": "79dd669b",
   "metadata": {
    "execution": {
     "iopub.execute_input": "2022-05-16T19:01:53.126486Z",
     "iopub.status.busy": "2022-05-16T19:01:53.125982Z",
     "iopub.status.idle": "2022-05-16T19:41:38.687212Z",
     "shell.execute_reply": "2022-05-16T19:41:38.686447Z"
    },
    "papermill": {
     "duration": 2385.669353,
     "end_time": "2022-05-16T19:41:38.741709",
     "exception": false,
     "start_time": "2022-05-16T19:01:53.072356",
     "status": "completed"
    },
    "tags": []
   },
   "outputs": [
    {
     "name": "stdout",
     "output_type": "stream",
     "text": [
      "에폭 [1/70] - 손실값 : 0.1303\n",
      "에폭 [2/70] - 손실값 : 0.0684\n",
      "에폭 [3/70] - 손실값 : 0.0517\n",
      "에폭 [4/70] - 손실값 : 0.0420\n",
      "에폭 [5/70] - 손실값 : 0.0360\n",
      "에폭 [6/70] - 손실값 : 0.0322\n",
      "에폭 [7/70] - 손실값 : 0.0303\n",
      "에폭 [8/70] - 손실값 : 0.0260\n",
      "에폭 [9/70] - 손실값 : 0.0269\n",
      "에폭 [10/70] - 손실값 : 0.0263\n",
      "에폭 [11/70] - 손실값 : 0.0222\n",
      "에폭 [12/70] - 손실값 : 0.0236\n",
      "에폭 [13/70] - 손실값 : 0.0195\n",
      "에폭 [14/70] - 손실값 : 0.0180\n",
      "에폭 [15/70] - 손실값 : 0.0185\n",
      "에폭 [16/70] - 손실값 : 0.0169\n",
      "에폭 [17/70] - 손실값 : 0.0149\n",
      "에폭 [18/70] - 손실값 : 0.0156\n",
      "에폭 [19/70] - 손실값 : 0.0147\n",
      "에폭 [20/70] - 손실값 : 0.0136\n",
      "에폭 [21/70] - 손실값 : 0.0152\n",
      "에폭 [22/70] - 손실값 : 0.0142\n",
      "에폭 [23/70] - 손실값 : 0.0151\n",
      "에폭 [24/70] - 손실값 : 0.0114\n",
      "에폭 [25/70] - 손실값 : 0.0125\n",
      "에폭 [26/70] - 손실값 : 0.0114\n",
      "에폭 [27/70] - 손실값 : 0.0116\n",
      "에폭 [28/70] - 손실값 : 0.0113\n",
      "에폭 [29/70] - 손실값 : 0.0116\n",
      "에폭 [30/70] - 손실값 : 0.0103\n",
      "에폭 [31/70] - 손실값 : 0.0107\n",
      "에폭 [32/70] - 손실값 : 0.0099\n",
      "에폭 [33/70] - 손실값 : 0.0096\n",
      "에폭 [34/70] - 손실값 : 0.0091\n",
      "에폭 [35/70] - 손실값 : 0.0099\n",
      "에폭 [36/70] - 손실값 : 0.0100\n",
      "에폭 [37/70] - 손실값 : 0.0081\n",
      "에폭 [38/70] - 손실값 : 0.0061\n",
      "에폭 [39/70] - 손실값 : 0.0093\n",
      "에폭 [40/70] - 손실값 : 0.0085\n",
      "에폭 [41/70] - 손실값 : 0.0079\n",
      "에폭 [42/70] - 손실값 : 0.0062\n",
      "에폭 [43/70] - 손실값 : 0.0090\n",
      "에폭 [44/70] - 손실값 : 0.0078\n",
      "에폭 [45/70] - 손실값 : 0.0056\n",
      "에폭 [46/70] - 손실값 : 0.0066\n",
      "에폭 [47/70] - 손실값 : 0.0079\n",
      "에폭 [48/70] - 손실값 : 0.0065\n",
      "에폭 [49/70] - 손실값 : 0.0055\n",
      "에폭 [50/70] - 손실값 : 0.0058\n",
      "에폭 [51/70] - 손실값 : 0.0059\n",
      "에폭 [52/70] - 손실값 : 0.0071\n",
      "에폭 [53/70] - 손실값 : 0.0061\n",
      "에폭 [54/70] - 손실값 : 0.0049\n",
      "에폭 [55/70] - 손실값 : 0.0058\n",
      "에폭 [56/70] - 손실값 : 0.0039\n",
      "에폭 [57/70] - 손실값 : 0.0050\n",
      "에폭 [58/70] - 손실값 : 0.0034\n",
      "에폭 [59/70] - 손실값 : 0.0045\n",
      "에폭 [60/70] - 손실값 : 0.0047\n",
      "에폭 [61/70] - 손실값 : 0.0034\n",
      "에폭 [62/70] - 손실값 : 0.0038\n",
      "에폭 [63/70] - 손실값 : 0.0054\n",
      "에폭 [64/70] - 손실값 : 0.0043\n",
      "에폭 [65/70] - 손실값 : 0.0036\n",
      "에폭 [66/70] - 손실값 : 0.0046\n",
      "에폭 [67/70] - 손실값 : 0.0044\n",
      "에폭 [68/70] - 손실값 : 0.0036\n",
      "에폭 [69/70] - 손실값 : 0.0046\n",
      "에폭 [70/70] - 손실값 : 0.0032\n"
     ]
    }
   ],
   "source": [
    "epochs = 70\n",
    "for epoch in range(epochs) :\n",
    "    epoch_loss = 0\n",
    "    \n",
    "    for images, labels in loader_train :\n",
    "        images = images.to(device)\n",
    "        labels = labels.to(device)\n",
    "        \n",
    "        optimizer.zero_grad()\n",
    "        outputs = model(images)\n",
    "        loss = criterion(outputs, labels)\n",
    "        \n",
    "        epoch_loss += loss.item()\n",
    "        loss.backward()\n",
    "        optimizer.step()\n",
    "        \n",
    "    print(f'에폭 [{epoch + 1}/{epochs}] - 손실값 : {epoch_loss/len(loader_train):.4f}')"
   ]
  },
  {
   "cell_type": "code",
   "execution_count": 23,
   "id": "530d9d81",
   "metadata": {
    "execution": {
     "iopub.execute_input": "2022-05-16T19:41:38.855066Z",
     "iopub.status.busy": "2022-05-16T19:41:38.854452Z",
     "iopub.status.idle": "2022-05-16T19:41:38.859257Z",
     "shell.execute_reply": "2022-05-16T19:41:38.858599Z"
    },
    "papermill": {
     "duration": 0.060821,
     "end_time": "2022-05-16T19:41:38.861076",
     "exception": false,
     "start_time": "2022-05-16T19:41:38.800255",
     "status": "completed"
    },
    "tags": []
   },
   "outputs": [],
   "source": [
    "from sklearn.metrics import roc_auc_score\n",
    "\n",
    "true_list = []\n",
    "pred_list = []"
   ]
  },
  {
   "cell_type": "code",
   "execution_count": 24,
   "id": "44b12761",
   "metadata": {
    "execution": {
     "iopub.execute_input": "2022-05-16T19:41:39.021303Z",
     "iopub.status.busy": "2022-05-16T19:41:39.020684Z",
     "iopub.status.idle": "2022-05-16T19:41:41.168688Z",
     "shell.execute_reply": "2022-05-16T19:41:41.167967Z"
    },
    "papermill": {
     "duration": 2.250921,
     "end_time": "2022-05-16T19:41:41.170677",
     "exception": false,
     "start_time": "2022-05-16T19:41:38.919756",
     "status": "completed"
    },
    "tags": []
   },
   "outputs": [
    {
     "name": "stdout",
     "output_type": "stream",
     "text": [
      "검증 데이터 ROC AUC :  0.9998\n"
     ]
    }
   ],
   "source": [
    "model.eval()\n",
    "\n",
    "with torch.no_grad() :\n",
    "    for images, labels in loader_valid :\n",
    "        images = images.to(device)\n",
    "        labels = labels.to(device)\n",
    "        \n",
    "        outputs = model(images)\n",
    "        pred = torch.softmax(outputs.cpu(), dim=1)[:, 1]\n",
    "        true = labels.cpu()\n",
    "        \n",
    "        pred_list.extend(pred)\n",
    "        true_list.extend(true)\n",
    "\n",
    "print(f'검증 데이터 ROC AUC : {roc_auc_score(true_list, pred_list) : .4f}')"
   ]
  },
  {
   "cell_type": "code",
   "execution_count": 25,
   "id": "8b236309",
   "metadata": {
    "execution": {
     "iopub.execute_input": "2022-05-16T19:41:41.278395Z",
     "iopub.status.busy": "2022-05-16T19:41:41.277883Z",
     "iopub.status.idle": "2022-05-16T19:41:41.281860Z",
     "shell.execute_reply": "2022-05-16T19:41:41.281190Z"
    },
    "papermill": {
     "duration": 0.05979,
     "end_time": "2022-05-16T19:41:41.283615",
     "exception": false,
     "start_time": "2022-05-16T19:41:41.223825",
     "status": "completed"
    },
    "tags": []
   },
   "outputs": [],
   "source": [
    "dataset_test = ImageDataset(df=submission, img_dir='test/', transform=transform_test)\n",
    "loader_test = DataLoader(dataset=dataset_test, batch_size=32, shuffle=False)"
   ]
  },
  {
   "cell_type": "code",
   "execution_count": 26,
   "id": "93d7d549",
   "metadata": {
    "execution": {
     "iopub.execute_input": "2022-05-16T19:41:41.391221Z",
     "iopub.status.busy": "2022-05-16T19:41:41.390719Z",
     "iopub.status.idle": "2022-05-16T19:41:45.853241Z",
     "shell.execute_reply": "2022-05-16T19:41:45.852381Z"
    },
    "papermill": {
     "duration": 4.519114,
     "end_time": "2022-05-16T19:41:45.855918",
     "exception": false,
     "start_time": "2022-05-16T19:41:41.336804",
     "status": "completed"
    },
    "tags": []
   },
   "outputs": [],
   "source": [
    "model.eval()\n",
    "\n",
    "preds = []\n",
    "\n",
    "with torch.no_grad() :\n",
    "    for images, labels in loader_test :\n",
    "        images = images.to(device)\n",
    "        labels = labels.to(device)\n",
    "        \n",
    "        outputs = model(images)\n",
    "        pred_part = torch.softmax(outputs.cpu(), dim=1)[:, 1].tolist()\n",
    "        \n",
    "        preds.extend(pred_part)"
   ]
  },
  {
   "cell_type": "code",
   "execution_count": 27,
   "id": "f7d463dd",
   "metadata": {
    "execution": {
     "iopub.execute_input": "2022-05-16T19:41:45.973717Z",
     "iopub.status.busy": "2022-05-16T19:41:45.973413Z",
     "iopub.status.idle": "2022-05-16T19:41:45.978475Z",
     "shell.execute_reply": "2022-05-16T19:41:45.977815Z"
    },
    "papermill": {
     "duration": 0.063732,
     "end_time": "2022-05-16T19:41:45.980662",
     "exception": false,
     "start_time": "2022-05-16T19:41:45.916930",
     "status": "completed"
    },
    "tags": []
   },
   "outputs": [
    {
     "data": {
      "text/plain": [
       "4000"
      ]
     },
     "execution_count": 27,
     "metadata": {},
     "output_type": "execute_result"
    }
   ],
   "source": [
    "len(preds)"
   ]
  },
  {
   "cell_type": "code",
   "execution_count": 28,
   "id": "4d6ab6d5",
   "metadata": {
    "execution": {
     "iopub.execute_input": "2022-05-16T19:41:46.099932Z",
     "iopub.status.busy": "2022-05-16T19:41:46.099171Z",
     "iopub.status.idle": "2022-05-16T19:41:46.104601Z",
     "shell.execute_reply": "2022-05-16T19:41:46.103911Z"
    },
    "papermill": {
     "duration": 0.071098,
     "end_time": "2022-05-16T19:41:46.106459",
     "exception": false,
     "start_time": "2022-05-16T19:41:46.035361",
     "status": "completed"
    },
    "tags": []
   },
   "outputs": [
    {
     "data": {
      "text/plain": [
       "(4000, 2)"
      ]
     },
     "execution_count": 28,
     "metadata": {},
     "output_type": "execute_result"
    }
   ],
   "source": [
    "submission.shape"
   ]
  },
  {
   "cell_type": "code",
   "execution_count": 29,
   "id": "82aa93e8",
   "metadata": {
    "execution": {
     "iopub.execute_input": "2022-05-16T19:41:46.221270Z",
     "iopub.status.busy": "2022-05-16T19:41:46.220794Z",
     "iopub.status.idle": "2022-05-16T19:41:46.245420Z",
     "shell.execute_reply": "2022-05-16T19:41:46.244805Z"
    },
    "papermill": {
     "duration": 0.082748,
     "end_time": "2022-05-16T19:41:46.247136",
     "exception": false,
     "start_time": "2022-05-16T19:41:46.164388",
     "status": "completed"
    },
    "tags": []
   },
   "outputs": [],
   "source": [
    "submission['has_cactus'] = preds\n",
    "submission.to_csv('submission.csv', index=False)"
   ]
  },
  {
   "cell_type": "code",
   "execution_count": 30,
   "id": "c22e8c56",
   "metadata": {
    "execution": {
     "iopub.execute_input": "2022-05-16T19:41:46.359921Z",
     "iopub.status.busy": "2022-05-16T19:41:46.359311Z",
     "iopub.status.idle": "2022-05-16T19:41:46.932679Z",
     "shell.execute_reply": "2022-05-16T19:41:46.931946Z"
    },
    "papermill": {
     "duration": 0.630757,
     "end_time": "2022-05-16T19:41:46.935266",
     "exception": false,
     "start_time": "2022-05-16T19:41:46.304509",
     "status": "completed"
    },
    "tags": []
   },
   "outputs": [],
   "source": [
    "import shutil\n",
    "shutil.rmtree('./train')\n",
    "shutil.rmtree('./test')"
   ]
  },
  {
   "cell_type": "code",
   "execution_count": null,
   "id": "3aaa13c3",
   "metadata": {
    "papermill": {
     "duration": 0.053911,
     "end_time": "2022-05-16T19:41:47.044731",
     "exception": false,
     "start_time": "2022-05-16T19:41:46.990820",
     "status": "completed"
    },
    "tags": []
   },
   "outputs": [],
   "source": []
  }
 ],
 "metadata": {
  "kernelspec": {
   "display_name": "Python 3",
   "language": "python",
   "name": "python3"
  },
  "language_info": {
   "codemirror_mode": {
    "name": "ipython",
    "version": 3
   },
   "file_extension": ".py",
   "mimetype": "text/x-python",
   "name": "python",
   "nbconvert_exporter": "python",
   "pygments_lexer": "ipython3",
   "version": "3.7.12"
  },
  "papermill": {
   "default_parameters": {},
   "duration": 2416.970841,
   "end_time": "2022-05-16T19:41:48.223340",
   "environment_variables": {},
   "exception": null,
   "input_path": "__notebook__.ipynb",
   "output_path": "__notebook__.ipynb",
   "parameters": {},
   "start_time": "2022-05-16T19:01:31.252499",
   "version": "2.3.4"
  }
 },
 "nbformat": 4,
 "nbformat_minor": 5
}
